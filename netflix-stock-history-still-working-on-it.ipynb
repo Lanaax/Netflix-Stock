{
 "cells": [
  {
   "cell_type": "code",
   "execution_count": 1,
   "id": "91c75c58",
   "metadata": {
    "_cell_guid": "b1076dfc-b9ad-4769-8c92-a6c4dae69d19",
    "_uuid": "8f2839f25d086af736a60e9eeb907d3b93b6e0e5",
    "execution": {
     "iopub.execute_input": "2024-05-31T20:04:54.118293Z",
     "iopub.status.busy": "2024-05-31T20:04:54.117876Z",
     "iopub.status.idle": "2024-05-31T20:04:55.231633Z",
     "shell.execute_reply": "2024-05-31T20:04:55.230668Z"
    },
    "papermill": {
     "duration": 1.123317,
     "end_time": "2024-05-31T20:04:55.234314",
     "exception": false,
     "start_time": "2024-05-31T20:04:54.110997",
     "status": "completed"
    },
    "tags": []
   },
   "outputs": [
    {
     "name": "stdout",
     "output_type": "stream",
     "text": [
      "/kaggle/input/netflix-stock-data-live-and-latest/Netflix_stock_dividends.csv\n",
      "/kaggle/input/netflix-stock-data-live-and-latest/Netflix_stock_action.csv\n",
      "/kaggle/input/netflix-stock-data-live-and-latest/Netflix_stock_history.csv\n",
      "/kaggle/input/netflix-stock-data-live-and-latest/Netflix_stock_info.csv\n",
      "/kaggle/input/netflix-stock-data-live-and-latest/Netflix_stock_spilts.csv\n"
     ]
    }
   ],
   "source": [
    "# This Python 3 environment comes with many helpful analytics libraries installed\n",
    "# It is defined by the kaggle/python Docker image: https://github.com/kaggle/docker-python\n",
    "# For example, here's several helpful packages to load\n",
    "\n",
    "import numpy as np # linear algebra\n",
    "import pandas as pd # data processing, CSV file I/O (e.g. pd.read_csv)\n",
    "\n",
    "# Input data files are available in the read-only \"../input/\" directory\n",
    "# For example, running this (by clicking run or pressing Shift+Enter) will list all files under the input directory\n",
    "\n",
    "import os\n",
    "for dirname, _, filenames in os.walk('/kaggle/input'):\n",
    "    for filename in filenames:\n",
    "        print(os.path.join(dirname, filename))\n",
    "\n",
    "# You can write up to 20GB to the current directory (/kaggle/working/) that gets preserved as output when you create a version using \"Save & Run All\" \n",
    "# You can also write temporary files to /kaggle/temp/, but they won't be saved outside of the current session"
   ]
  },
  {
   "cell_type": "code",
   "execution_count": 2,
   "id": "c683e13f",
   "metadata": {
    "execution": {
     "iopub.execute_input": "2024-05-31T20:04:55.246927Z",
     "iopub.status.busy": "2024-05-31T20:04:55.245878Z",
     "iopub.status.idle": "2024-05-31T20:04:55.310770Z",
     "shell.execute_reply": "2024-05-31T20:04:55.309557Z"
    },
    "papermill": {
     "duration": 0.073858,
     "end_time": "2024-05-31T20:04:55.313284",
     "exception": false,
     "start_time": "2024-05-31T20:04:55.239426",
     "status": "completed"
    },
    "tags": []
   },
   "outputs": [
    {
     "data": {
      "text/html": [
       "<div>\n",
       "<style scoped>\n",
       "    .dataframe tbody tr th:only-of-type {\n",
       "        vertical-align: middle;\n",
       "    }\n",
       "\n",
       "    .dataframe tbody tr th {\n",
       "        vertical-align: top;\n",
       "    }\n",
       "\n",
       "    .dataframe thead th {\n",
       "        text-align: right;\n",
       "    }\n",
       "</style>\n",
       "<table border=\"1\" class=\"dataframe\">\n",
       "  <thead>\n",
       "    <tr style=\"text-align: right;\">\n",
       "      <th></th>\n",
       "      <th>Date</th>\n",
       "      <th>Open</th>\n",
       "      <th>High</th>\n",
       "      <th>Low</th>\n",
       "      <th>Close</th>\n",
       "      <th>Volume</th>\n",
       "      <th>Dividends</th>\n",
       "      <th>Stock Splits</th>\n",
       "    </tr>\n",
       "  </thead>\n",
       "  <tbody>\n",
       "    <tr>\n",
       "      <th>0</th>\n",
       "      <td>2002-05-23</td>\n",
       "      <td>1.156429</td>\n",
       "      <td>1.242857</td>\n",
       "      <td>1.145714</td>\n",
       "      <td>1.196429</td>\n",
       "      <td>104790000</td>\n",
       "      <td>0</td>\n",
       "      <td>0.0</td>\n",
       "    </tr>\n",
       "    <tr>\n",
       "      <th>1</th>\n",
       "      <td>2002-05-24</td>\n",
       "      <td>1.214286</td>\n",
       "      <td>1.225000</td>\n",
       "      <td>1.197143</td>\n",
       "      <td>1.210000</td>\n",
       "      <td>11104800</td>\n",
       "      <td>0</td>\n",
       "      <td>0.0</td>\n",
       "    </tr>\n",
       "    <tr>\n",
       "      <th>2</th>\n",
       "      <td>2002-05-28</td>\n",
       "      <td>1.213571</td>\n",
       "      <td>1.232143</td>\n",
       "      <td>1.157143</td>\n",
       "      <td>1.157143</td>\n",
       "      <td>6609400</td>\n",
       "      <td>0</td>\n",
       "      <td>0.0</td>\n",
       "    </tr>\n",
       "    <tr>\n",
       "      <th>3</th>\n",
       "      <td>2002-05-29</td>\n",
       "      <td>1.164286</td>\n",
       "      <td>1.164286</td>\n",
       "      <td>1.085714</td>\n",
       "      <td>1.103571</td>\n",
       "      <td>6757800</td>\n",
       "      <td>0</td>\n",
       "      <td>0.0</td>\n",
       "    </tr>\n",
       "    <tr>\n",
       "      <th>4</th>\n",
       "      <td>2002-05-30</td>\n",
       "      <td>1.107857</td>\n",
       "      <td>1.107857</td>\n",
       "      <td>1.071429</td>\n",
       "      <td>1.071429</td>\n",
       "      <td>10154200</td>\n",
       "      <td>0</td>\n",
       "      <td>0.0</td>\n",
       "    </tr>\n",
       "  </tbody>\n",
       "</table>\n",
       "</div>"
      ],
      "text/plain": [
       "         Date      Open      High       Low     Close     Volume  Dividends  \\\n",
       "0  2002-05-23  1.156429  1.242857  1.145714  1.196429  104790000          0   \n",
       "1  2002-05-24  1.214286  1.225000  1.197143  1.210000   11104800          0   \n",
       "2  2002-05-28  1.213571  1.232143  1.157143  1.157143    6609400          0   \n",
       "3  2002-05-29  1.164286  1.164286  1.085714  1.103571    6757800          0   \n",
       "4  2002-05-30  1.107857  1.107857  1.071429  1.071429   10154200          0   \n",
       "\n",
       "   Stock Splits  \n",
       "0           0.0  \n",
       "1           0.0  \n",
       "2           0.0  \n",
       "3           0.0  \n",
       "4           0.0  "
      ]
     },
     "execution_count": 2,
     "metadata": {},
     "output_type": "execute_result"
    }
   ],
   "source": [
    "net_history = pd.read_csv(\"/kaggle/input/netflix-stock-data-live-and-latest/Netflix_stock_history.csv\")\n",
    "net_history.head()"
   ]
  },
  {
   "cell_type": "code",
   "execution_count": 3,
   "id": "8e74d682",
   "metadata": {
    "execution": {
     "iopub.execute_input": "2024-05-31T20:04:55.326868Z",
     "iopub.status.busy": "2024-05-31T20:04:55.326449Z",
     "iopub.status.idle": "2024-05-31T20:04:55.338538Z",
     "shell.execute_reply": "2024-05-31T20:04:55.337503Z"
    },
    "papermill": {
     "duration": 0.022193,
     "end_time": "2024-05-31T20:04:55.341039",
     "exception": false,
     "start_time": "2024-05-31T20:04:55.318846",
     "status": "completed"
    },
    "tags": []
   },
   "outputs": [],
   "source": [
    "#Drop useless columns\n",
    "net_history.drop(['Dividends', 'Stock Splits'], axis=1, inplace=True)"
   ]
  },
  {
   "cell_type": "code",
   "execution_count": 4,
   "id": "83c90dd7",
   "metadata": {
    "execution": {
     "iopub.execute_input": "2024-05-31T20:04:55.354809Z",
     "iopub.status.busy": "2024-05-31T20:04:55.353630Z",
     "iopub.status.idle": "2024-05-31T20:04:55.368562Z",
     "shell.execute_reply": "2024-05-31T20:04:55.367248Z"
    },
    "papermill": {
     "duration": 0.024807,
     "end_time": "2024-05-31T20:04:55.371229",
     "exception": false,
     "start_time": "2024-05-31T20:04:55.346422",
     "status": "completed"
    },
    "tags": []
   },
   "outputs": [
    {
     "data": {
      "text/plain": [
       "Date      0\n",
       "Open      0\n",
       "High      0\n",
       "Low       0\n",
       "Close     0\n",
       "Volume    0\n",
       "dtype: int64"
      ]
     },
     "execution_count": 4,
     "metadata": {},
     "output_type": "execute_result"
    }
   ],
   "source": [
    "#Looking for null values\n",
    "net_history.isnull().sum()"
   ]
  },
  {
   "cell_type": "code",
   "execution_count": 5,
   "id": "6baa8f15",
   "metadata": {
    "execution": {
     "iopub.execute_input": "2024-05-31T20:04:55.385734Z",
     "iopub.status.busy": "2024-05-31T20:04:55.384151Z",
     "iopub.status.idle": "2024-05-31T20:04:55.411350Z",
     "shell.execute_reply": "2024-05-31T20:04:55.409714Z"
    },
    "papermill": {
     "duration": 0.037403,
     "end_time": "2024-05-31T20:04:55.414143",
     "exception": false,
     "start_time": "2024-05-31T20:04:55.376740",
     "status": "completed"
    },
    "tags": []
   },
   "outputs": [
    {
     "name": "stdout",
     "output_type": "stream",
     "text": [
      "<class 'pandas.core.frame.DataFrame'>\n",
      "RangeIndex: 4870 entries, 0 to 4869\n",
      "Data columns (total 6 columns):\n",
      " #   Column  Non-Null Count  Dtype  \n",
      "---  ------  --------------  -----  \n",
      " 0   Date    4870 non-null   object \n",
      " 1   Open    4870 non-null   float64\n",
      " 2   High    4870 non-null   float64\n",
      " 3   Low     4870 non-null   float64\n",
      " 4   Close   4870 non-null   float64\n",
      " 5   Volume  4870 non-null   int64  \n",
      "dtypes: float64(4), int64(1), object(1)\n",
      "memory usage: 228.4+ KB\n"
     ]
    }
   ],
   "source": [
    "net_history.info()"
   ]
  },
  {
   "cell_type": "code",
   "execution_count": 6,
   "id": "5bdccc53",
   "metadata": {
    "execution": {
     "iopub.execute_input": "2024-05-31T20:04:55.427301Z",
     "iopub.status.busy": "2024-05-31T20:04:55.426546Z",
     "iopub.status.idle": "2024-05-31T20:04:55.445309Z",
     "shell.execute_reply": "2024-05-31T20:04:55.443631Z"
    },
    "papermill": {
     "duration": 0.028284,
     "end_time": "2024-05-31T20:04:55.447877",
     "exception": false,
     "start_time": "2024-05-31T20:04:55.419593",
     "status": "completed"
    },
    "tags": []
   },
   "outputs": [
    {
     "name": "stdout",
     "output_type": "stream",
     "text": [
      "<class 'pandas.core.frame.DataFrame'>\n",
      "RangeIndex: 4870 entries, 0 to 4869\n",
      "Data columns (total 6 columns):\n",
      " #   Column  Non-Null Count  Dtype         \n",
      "---  ------  --------------  -----         \n",
      " 0   Date    4870 non-null   datetime64[ns]\n",
      " 1   Open    4870 non-null   float64       \n",
      " 2   High    4870 non-null   float64       \n",
      " 3   Low     4870 non-null   float64       \n",
      " 4   Close   4870 non-null   float64       \n",
      " 5   Volume  4870 non-null   int64         \n",
      "dtypes: datetime64[ns](1), float64(4), int64(1)\n",
      "memory usage: 228.4 KB\n"
     ]
    }
   ],
   "source": [
    "#Transform Date column\n",
    "net_history['Date'] = pd.to_datetime(net_history['Date'], format='%Y-%m-%d')\n",
    "net_history.info()"
   ]
  },
  {
   "cell_type": "code",
   "execution_count": 7,
   "id": "8604fb91",
   "metadata": {
    "execution": {
     "iopub.execute_input": "2024-05-31T20:04:55.460893Z",
     "iopub.status.busy": "2024-05-31T20:04:55.460449Z",
     "iopub.status.idle": "2024-05-31T20:04:57.142799Z",
     "shell.execute_reply": "2024-05-31T20:04:57.141300Z"
    },
    "papermill": {
     "duration": 1.692403,
     "end_time": "2024-05-31T20:04:57.145906",
     "exception": false,
     "start_time": "2024-05-31T20:04:55.453503",
     "status": "completed"
    },
    "tags": []
   },
   "outputs": [],
   "source": [
    "#Import data visualization\n",
    "import matplotlib.pyplot as plt\n",
    "import seaborn as sns\n",
    "sns.set_style(\"whitegrid\")\n",
    "import warnings\n",
    "warnings.filterwarnings('ignore')"
   ]
  },
  {
   "cell_type": "code",
   "execution_count": 8,
   "id": "2eb954ce",
   "metadata": {
    "execution": {
     "iopub.execute_input": "2024-05-31T20:04:57.163323Z",
     "iopub.status.busy": "2024-05-31T20:04:57.162893Z",
     "iopub.status.idle": "2024-05-31T20:04:58.834893Z",
     "shell.execute_reply": "2024-05-31T20:04:58.833727Z"
    },
    "papermill": {
     "duration": 1.683623,
     "end_time": "2024-05-31T20:04:58.837515",
     "exception": false,
     "start_time": "2024-05-31T20:04:57.153892",
     "status": "completed"
    },
    "tags": []
   },
   "outputs": [
    {
     "data": {
      "text/plain": [
       "Text(0.5, 1.0, 'Volume')"
      ]
     },
     "execution_count": 8,
     "metadata": {},
     "output_type": "execute_result"
    },
    {
     "data": {
      "image/png": "[encoded data removed]",
      "text/plain": [
       "<Figure size 1400x700 with 2 Axes>"
      ]
     },
     "metadata": {},
     "output_type": "display_data"
    }
   ],
   "source": [
    "#All the data\n",
    "fig, axes = plt.subplots(1, 2, figsize = (14, 7))\n",
    "sns.lineplot(net_history, x=net_history.Date, y=net_history.Close, ax=axes[0])\n",
    "axes[0].set_title(\"Close\")\n",
    "sns.lineplot(net_history, x=net_history.Date, y=net_history.Volume, ax=axes[1], color=\"red\")\n",
    "axes[1].set_title(\"Volume\")"
   ]
  },
  {
   "cell_type": "code",
   "execution_count": 9,
   "id": "3f936e3e",
   "metadata": {
    "execution": {
     "iopub.execute_input": "2024-05-31T20:04:58.853846Z",
     "iopub.status.busy": "2024-05-31T20:04:58.853407Z",
     "iopub.status.idle": "2024-05-31T20:04:58.869610Z",
     "shell.execute_reply": "2024-05-31T20:04:58.868570Z"
    },
    "papermill": {
     "duration": 0.027425,
     "end_time": "2024-05-31T20:04:58.871987",
     "exception": false,
     "start_time": "2024-05-31T20:04:58.844562",
     "status": "completed"
    },
    "tags": []
   },
   "outputs": [
    {
     "data": {
      "text/html": [
       "<div>\n",
       "<style scoped>\n",
       "    .dataframe tbody tr th:only-of-type {\n",
       "        vertical-align: middle;\n",
       "    }\n",
       "\n",
       "    .dataframe tbody tr th {\n",
       "        vertical-align: top;\n",
       "    }\n",
       "\n",
       "    .dataframe thead th {\n",
       "        text-align: right;\n",
       "    }\n",
       "</style>\n",
       "<table border=\"1\" class=\"dataframe\">\n",
       "  <thead>\n",
       "    <tr style=\"text-align: right;\">\n",
       "      <th></th>\n",
       "      <th>Date</th>\n",
       "      <th>Open</th>\n",
       "      <th>High</th>\n",
       "      <th>Low</th>\n",
       "      <th>Close</th>\n",
       "      <th>Volume</th>\n",
       "    </tr>\n",
       "  </thead>\n",
       "  <tbody>\n",
       "    <tr>\n",
       "      <th>3930</th>\n",
       "      <td>2018-01-02</td>\n",
       "      <td>196.100006</td>\n",
       "      <td>201.649994</td>\n",
       "      <td>195.419998</td>\n",
       "      <td>201.070007</td>\n",
       "      <td>10966900</td>\n",
       "    </tr>\n",
       "    <tr>\n",
       "      <th>3931</th>\n",
       "      <td>2018-01-03</td>\n",
       "      <td>202.050003</td>\n",
       "      <td>206.210007</td>\n",
       "      <td>201.500000</td>\n",
       "      <td>205.050003</td>\n",
       "      <td>8591400</td>\n",
       "    </tr>\n",
       "    <tr>\n",
       "      <th>3932</th>\n",
       "      <td>2018-01-04</td>\n",
       "      <td>206.199997</td>\n",
       "      <td>207.050003</td>\n",
       "      <td>204.000000</td>\n",
       "      <td>205.630005</td>\n",
       "      <td>6029600</td>\n",
       "    </tr>\n",
       "    <tr>\n",
       "      <th>3933</th>\n",
       "      <td>2018-01-05</td>\n",
       "      <td>207.250000</td>\n",
       "      <td>210.020004</td>\n",
       "      <td>205.589996</td>\n",
       "      <td>209.990005</td>\n",
       "      <td>7033200</td>\n",
       "    </tr>\n",
       "    <tr>\n",
       "      <th>3934</th>\n",
       "      <td>2018-01-08</td>\n",
       "      <td>210.020004</td>\n",
       "      <td>212.500000</td>\n",
       "      <td>208.440002</td>\n",
       "      <td>212.050003</td>\n",
       "      <td>5580200</td>\n",
       "    </tr>\n",
       "  </tbody>\n",
       "</table>\n",
       "</div>"
      ],
      "text/plain": [
       "           Date        Open        High         Low       Close    Volume\n",
       "3930 2018-01-02  196.100006  201.649994  195.419998  201.070007  10966900\n",
       "3931 2018-01-03  202.050003  206.210007  201.500000  205.050003   8591400\n",
       "3932 2018-01-04  206.199997  207.050003  204.000000  205.630005   6029600\n",
       "3933 2018-01-05  207.250000  210.020004  205.589996  209.990005   7033200\n",
       "3934 2018-01-08  210.020004  212.500000  208.440002  212.050003   5580200"
      ]
     },
     "execution_count": 9,
     "metadata": {},
     "output_type": "execute_result"
    }
   ],
   "source": [
    "#2018-2021 data\n",
    "net_history_2018_2021 = net_history.loc[(net_history[\"Date\"]>=\"2018-01-01\")]\n",
    "net_history_2018_2021.head()"
   ]
  },
  {
   "cell_type": "code",
   "execution_count": 10,
   "id": "f65edb76",
   "metadata": {
    "execution": {
     "iopub.execute_input": "2024-05-31T20:04:58.888491Z",
     "iopub.status.busy": "2024-05-31T20:04:58.887832Z",
     "iopub.status.idle": "2024-05-31T20:04:58.916711Z",
     "shell.execute_reply": "2024-05-31T20:04:58.915054Z"
    },
    "papermill": {
     "duration": 0.040717,
     "end_time": "2024-05-31T20:04:58.919789",
     "exception": false,
     "start_time": "2024-05-31T20:04:58.879072",
     "status": "completed"
    },
    "tags": []
   },
   "outputs": [
    {
     "data": {
      "text/html": [
       "<div>\n",
       "<style scoped>\n",
       "    .dataframe tbody tr th:only-of-type {\n",
       "        vertical-align: middle;\n",
       "    }\n",
       "\n",
       "    .dataframe tbody tr th {\n",
       "        vertical-align: top;\n",
       "    }\n",
       "\n",
       "    .dataframe thead th {\n",
       "        text-align: right;\n",
       "    }\n",
       "</style>\n",
       "<table border=\"1\" class=\"dataframe\">\n",
       "  <thead>\n",
       "    <tr style=\"text-align: right;\">\n",
       "      <th></th>\n",
       "      <th>Open</th>\n",
       "      <th>High</th>\n",
       "      <th>Low</th>\n",
       "      <th>Close</th>\n",
       "      <th>Volume</th>\n",
       "    </tr>\n",
       "  </thead>\n",
       "  <tbody>\n",
       "    <tr>\n",
       "      <th>count</th>\n",
       "      <td>940.000000</td>\n",
       "      <td>940.000000</td>\n",
       "      <td>940.000000</td>\n",
       "      <td>940.000000</td>\n",
       "      <td>9.400000e+02</td>\n",
       "    </tr>\n",
       "    <tr>\n",
       "      <th>mean</th>\n",
       "      <td>397.144085</td>\n",
       "      <td>403.243053</td>\n",
       "      <td>390.880904</td>\n",
       "      <td>397.296861</td>\n",
       "      <td>7.826532e+06</td>\n",
       "    </tr>\n",
       "    <tr>\n",
       "      <th>std</th>\n",
       "      <td>96.144655</td>\n",
       "      <td>96.936786</td>\n",
       "      <td>95.315862</td>\n",
       "      <td>96.102512</td>\n",
       "      <td>5.202049e+06</td>\n",
       "    </tr>\n",
       "    <tr>\n",
       "      <th>min</th>\n",
       "      <td>196.100006</td>\n",
       "      <td>201.649994</td>\n",
       "      <td>195.419998</td>\n",
       "      <td>201.070007</td>\n",
       "      <td>1.144000e+06</td>\n",
       "    </tr>\n",
       "    <tr>\n",
       "      <th>25%</th>\n",
       "      <td>321.847496</td>\n",
       "      <td>327.247505</td>\n",
       "      <td>315.757500</td>\n",
       "      <td>321.097504</td>\n",
       "      <td>4.393375e+06</td>\n",
       "    </tr>\n",
       "    <tr>\n",
       "      <th>50%</th>\n",
       "      <td>366.895004</td>\n",
       "      <td>371.339996</td>\n",
       "      <td>361.240005</td>\n",
       "      <td>366.860001</td>\n",
       "      <td>6.276950e+06</td>\n",
       "    </tr>\n",
       "    <tr>\n",
       "      <th>75%</th>\n",
       "      <td>494.902496</td>\n",
       "      <td>502.212494</td>\n",
       "      <td>487.377502</td>\n",
       "      <td>493.919998</td>\n",
       "      <td>9.696300e+06</td>\n",
       "    </tr>\n",
       "    <tr>\n",
       "      <th>max</th>\n",
       "      <td>606.469971</td>\n",
       "      <td>615.599976</td>\n",
       "      <td>596.549988</td>\n",
       "      <td>606.710022</td>\n",
       "      <td>5.841040e+07</td>\n",
       "    </tr>\n",
       "  </tbody>\n",
       "</table>\n",
       "</div>"
      ],
      "text/plain": [
       "             Open        High         Low       Close        Volume\n",
       "count  940.000000  940.000000  940.000000  940.000000  9.400000e+02\n",
       "mean   397.144085  403.243053  390.880904  397.296861  7.826532e+06\n",
       "std     96.144655   96.936786   95.315862   96.102512  5.202049e+06\n",
       "min    196.100006  201.649994  195.419998  201.070007  1.144000e+06\n",
       "25%    321.847496  327.247505  315.757500  321.097504  4.393375e+06\n",
       "50%    366.895004  371.339996  361.240005  366.860001  6.276950e+06\n",
       "75%    494.902496  502.212494  487.377502  493.919998  9.696300e+06\n",
       "max    606.469971  615.599976  596.549988  606.710022  5.841040e+07"
      ]
     },
     "execution_count": 10,
     "metadata": {},
     "output_type": "execute_result"
    }
   ],
   "source": [
    "net_history_2018_2021.describe(exclude='datetime64')"
   ]
  },
  {
   "cell_type": "code",
   "execution_count": 1,
   "id": "c23e2cd2",
   "metadata": {
    "papermill": {
     "duration": 1.859805,
     "end_time": "2024-05-31T20:05:00.786970",
     "exception": false,
     "start_time": "2024-05-31T20:04:58.927165",
     "status": "completed"
    },
    "tags": []
   },
   "outputs": [
    {
     "ename": "NameError",
     "evalue": "name 'plt' is not defined",
     "output_type": "error",
     "traceback": [
      "\u001b[1;31m---------------------------------------------------------------------------\u001b[0m",
      "\u001b[1;31mNameError\u001b[0m                                 Traceback (most recent call last)",
      "Cell \u001b[1;32mIn[1], line 1\u001b[0m\n\u001b[1;32m----> 1\u001b[0m fig, axes \u001b[38;5;241m=\u001b[39m plt\u001b[38;5;241m.\u001b[39msubplots(\u001b[38;5;241m1\u001b[39m, \u001b[38;5;241m2\u001b[39m, figsize \u001b[38;5;241m=\u001b[39m (\u001b[38;5;241m14\u001b[39m, \u001b[38;5;241m7\u001b[39m))\n\u001b[0;32m      2\u001b[0m sns\u001b[38;5;241m.\u001b[39mlineplot(net_history_2018_2021, x\u001b[38;5;241m=\u001b[39mnet_history_2018_2021\u001b[38;5;241m.\u001b[39mDate, y\u001b[38;5;241m=\u001b[39mnet_history_2018_2021\u001b[38;5;241m.\u001b[39mClose, ax\u001b[38;5;241m=\u001b[39maxes[\u001b[38;5;241m0\u001b[39m])\n\u001b[0;32m      3\u001b[0m axes[\u001b[38;5;241m0\u001b[39m]\u001b[38;5;241m.\u001b[39mset_title(\u001b[38;5;124m\"\u001b[39m\u001b[38;5;124mClose price over time\u001b[39m\u001b[38;5;124m\"\u001b[39m)\n",
      "\u001b[1;31mNameError\u001b[0m: name 'plt' is not defined"
     ]
    }
   ],
   "source": [
    "fig, axes = plt.subplots(1, 2, figsize = (14, 7))\n",
    "sns.lineplot(net_history_2018_2021, x=net_history_2018_2021.Date, y=net_history_2018_2021.Close, ax=axes[0])\n",
    "axes[0].set_title(\"Close price over time\")\n",
    "sns.lineplot(net_history_2018_2021, x=net_history_2018_2021.Date, y=net_history_2018_2021.Volume, ax=axes[1], color=\"red\")\n",
    "axes[1].set_title(\"Volume trades over time\")\n",
    "plt.xticks(rotation=45)"
   ]
  },
  {
   "cell_type": "code",
   "execution_count": null,
   "id": "dd51a77c-38db-4c91-9951-8334010941a1",
   "metadata": {},
   "outputs": [],
   "source": []
  }
 ],
 "metadata": {
  "kaggle": {
   "accelerator": "none",
   "dataSources": [
    {
     "datasetId": 1612616,
     "sourceId": 8568327,
     "sourceType": "datasetVersion"
    }
   ],
   "dockerImageVersionId": 30715,
   "isGpuEnabled": false,
   "isInternetEnabled": true,
   "language": "python",
   "sourceType": "notebook"
  },
  "kernelspec": {
   "display_name": "Python 3 (ipykernel)",
   "language": "python",
   "name": "python3"
  },
  "language_info": {
   "codemirror_mode": {
    "name": "ipython",
    "version": 3
   },
   "file_extension": ".py",
   "mimetype": "text/x-python",
   "name": "python",
   "nbconvert_exporter": "python",
   "pygments_lexer": "ipython3",
   "version": "3.11.7"
  },
  "papermill": {
   "default_parameters": {},
   "duration": 10.537217,
   "end_time": "2024-05-31T20:05:01.417356",
   "environment_variables": {},
   "exception": null,
   "input_path": "__notebook__.ipynb",
   "output_path": "__notebook__.ipynb",
   "parameters": {},
   "start_time": "2024-05-31T20:04:50.880139",
   "version": "2.5.0"
  }
 },
 "nbformat": 4,
 "nbformat_minor": 5
}
